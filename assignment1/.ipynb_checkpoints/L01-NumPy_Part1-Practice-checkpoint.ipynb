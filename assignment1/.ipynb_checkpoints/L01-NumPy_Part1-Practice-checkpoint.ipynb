{
 "cells": [
  {
   "cell_type": "markdown",
   "metadata": {},
   "source": [
    "# Lesson 1 Practice: NumPy Part 1\n",
    "Use this notebook to follow along with the lesson in the corresponding lesson notebook: [L01-Numpy_Part1-Lesson.ipynb](./L01-Numpy_Part1-Lesson.ipynb).  \n",
    "\n"
   ]
  },
  {
   "cell_type": "markdown",
   "metadata": {},
   "source": [
    "## Instructions\n",
    "Follow along with the teaching material in the lesson. Throughout the tutorial sections labeled as \"Tasks\" are interspersed and indicated with the icon: ![Task](http://icons.iconarchive.com/icons/sbstnblnd/plateau/16/Apps-gnome-info-icon.png). You should follow the instructions provided in these sections by performing them in the practice notebook.  When the tutorial is completed you can turn in the final practice notebook. For each task, use the cell below it to write and test your code.  You may add additional cells for any task as needed or desired.  "
   ]
  },
  {
   "cell_type": "markdown",
   "metadata": {},
   "source": [
    "## Task 1a: Setup\n",
    "\n",
    "In the practice notebook, import the following packages:\n",
    "+ `numpy` as `np`"
   ]
  },
  {
   "cell_type": "code",
   "execution_count": 1,
   "metadata": {},
   "outputs": [],
   "source": [
    "import numpy as np"
   ]
  },
  {
   "cell_type": "markdown",
   "metadata": {},
   "source": [
    "## Task 2a: Creating Arrays\n",
    "\n",
    "In the practice notebook, perform the following.  \n",
    "- Create a 1-dimensional numpy array and print it.\n",
    "- Create a 2-dimensional numpy array and print it.\n",
    "- Create a 3-dimensional numpy array and print it."
   ]
  },
  {
   "cell_type": "code",
   "execution_count": 4,
   "metadata": {},
   "outputs": [
    {
     "name": "stdout",
     "output_type": "stream",
     "text": [
      "[1 3 5 7]\n",
      "[[1 3 5 7]\n",
      " [2 4 6 8]]\n",
      "[[[1 3 5 7]\n",
      "  [2 4 6 8]\n",
      "  [3 4 5 6]]]\n"
     ]
    }
   ],
   "source": [
    "my_array = np.array([1,3,5,7])\n",
    "my_2d_array = np.array([[1,3,5,7], [2,4,6,8]])\n",
    "my_3d_array = np.array([[[1,3,5,7], [2,4,6,8], [3,4,5,6]]])\n",
    "print(my_array)\n",
    "print(my_2d_array)\n",
    "print(my_3d_array)"
   ]
  },
  {
   "cell_type": "markdown",
   "metadata": {},
   "source": [
    "## Task 3a: Accessing Array Attributes\n",
    "\n",
    "In the practice notebook, perform the following.\n",
    "\n",
    "- Create a NumPy array.\n",
    "- Write code that prints these attributes (one per line): `ndim`, `shape`, `size`, `dtype`, `itemsize`, `data`, `nbytes`.\n",
    "- Add a comment line, before each line describing what value the attribute returns. \n"
   ]
  },
  {
   "cell_type": "code",
   "execution_count": 6,
   "metadata": {},
   "outputs": [
    {
     "name": "stdout",
     "output_type": "stream",
     "text": [
      "[[1 2 3 4]\n",
      " [5 6 7 8]]\n",
      "2\n",
      "(2, 4)\n",
      "8\n",
      "int32\n",
      "4\n",
      "<memory at 0x0000022FB2503208>\n",
      "32\n"
     ]
    }
   ],
   "source": [
    "my_array = np.array([[1,2,3,4], [5,6,7,8]])\n",
    "\n",
    "print(my_array)\n",
    "#Prints the number of dimensions for the array\n",
    "print(my_array.ndim)\n",
    "#Prints the rows and columns of the array\n",
    "print(my_array.shape)\n",
    "#Prints the amount of elements in the array\n",
    "print(my_array.size)\n",
    "#Prints the data type of the array\n",
    "print(my_array.dtype)\n",
    "#Prints the length of one array in the array\n",
    "print(my_array.itemsize)\n",
    "#Prints a buffer for the array(What does this mean?)\n",
    "print(my_array.data)\n",
    "#Prints the number of bytes of the array\n",
    "print(my_array.nbytes)\n"
   ]
  },
  {
   "cell_type": "markdown",
   "metadata": {},
   "source": [
    "## Task 4a: Initializing Arrays\n",
    "\n",
    "In the practice notebook, perform the following.\n",
    "\n",
    "+ Create an initialized array by using these functions:  `ones`, `zeros`, `empty`, `full`, `arange`, `linspace` and `random.random`. Be sure to follow each array creation with a call to `print()` to display your newly created arrays. \n",
    "+ Add a comment above each function call describing what is being done.  "
   ]
  },
  {
   "cell_type": "code",
   "execution_count": 29,
   "metadata": {},
   "outputs": [
    {
     "name": "stdout",
     "output_type": "stream",
     "text": [
      "[[1. 1. 1.]\n",
      " [1. 1. 1.]]\n",
      "[[0. 0. 0.]\n",
      " [0. 0. 0.]]\n",
      "[[0. 0. 0.]\n",
      " [0. 0. 0.]]\n",
      "[[7 7 7]\n",
      " [7 7 7]]\n",
      "[2 3 4 5 6]\n",
      "[2.   3.25 4.5  5.75 7.  ]\n",
      "[0.16038049 0.31851352 0.54988664 0.92809141 0.41453737]\n"
     ]
    }
   ],
   "source": [
    "#Prints an array of all ones\n",
    "ones = np.ones((2,3))\n",
    "#Prints an array of all zeros\n",
    "zeros = np.zeros((2,3))\n",
    "#Prints an empty array\n",
    "empty = np.empty((2,3))\n",
    "#Prints an array of the specified number\n",
    "full = np.full((2,3), 7)\n",
    "#Prints the number within the specified range\n",
    "arange = np.arange(2, 7)\n",
    "#Prints the numbers specified spaced out evenly by what num equals\n",
    "linspace = np.linspace(2.0, 7.0, num=5)\n",
    "#Prints a random array of numbers between 0 and 1\n",
    "random = np.random.random((5)) \n",
    "\n",
    "\n",
    "print(ones)\n",
    "print(zeros)\n",
    "print(empty)\n",
    "print(full)\n",
    "print(arange)\n",
    "print(linspace)\n",
    "print(random)"
   ]
  },
  {
   "cell_type": "markdown",
   "metadata": {},
   "source": [
    "## Task 5a:  Broadcasting Arrays\n",
    "\n",
    "In the practice notebook, perform the following.\n",
    "\n",
    "+ Create two arrays of differing sizes but compatible with broadcasting.\n",
    "+ Perform addition, multiplication and subtraction.\n",
    "+ Create two additional arrays of differing size that do not meet the rules for broadcasting and try a mathematical operation.  "
   ]
  },
  {
   "cell_type": "code",
   "execution_count": 8,
   "metadata": {},
   "outputs": [
    {
     "name": "stdout",
     "output_type": "stream",
     "text": [
      "example_a shape: (2, 3)\n",
      "example_b shape: (3,)\n",
      "[[1. 1. 1.]\n",
      " [1. 1. 1.]]\n",
      "[0.34896737 0.13781869 0.95488657]\n",
      "[[1.34896737 1.13781869 1.95488657]\n",
      " [1.34896737 1.13781869 1.95488657]]\n",
      "[[0.65103263 0.86218131 0.04511343]\n",
      " [0.65103263 0.86218131 0.04511343]]\n",
      "[[0.34896737 0.13781869 0.95488657]\n",
      " [0.34896737 0.13781869 0.95488657]]\n",
      "example_c shape: (2, 3)\n",
      "example_d shape: (4, 5)\n",
      "[[1. 1. 1.]\n",
      " [1. 1. 1.]]\n",
      "[[0.2393335  0.27618794 0.09027583 0.64610441 0.08402901]\n",
      " [0.53565464 0.56374073 0.60175771 0.04062084 0.51676744]\n",
      " [0.69703523 0.74498024 0.46917886 0.93720184 0.00647366]\n",
      " [0.16542833 0.25903927 0.85202083 0.73657518 0.1861299 ]]\n"
     ]
    },
    {
     "ename": "ValueError",
     "evalue": "operands could not be broadcast together with shapes (2,3) (4,5) ",
     "output_type": "error",
     "traceback": [
      "\u001b[1;31m---------------------------------------------------------------------------\u001b[0m",
      "\u001b[1;31mValueError\u001b[0m                                Traceback (most recent call last)",
      "\u001b[1;32m<ipython-input-8-263e5adafcc4>\u001b[0m in \u001b[0;36m<module>\u001b[1;34m\u001b[0m\n\u001b[0;32m     25\u001b[0m \u001b[0mprint\u001b[0m\u001b[1;33m(\u001b[0m\u001b[0mexample_d\u001b[0m\u001b[1;33m)\u001b[0m\u001b[1;33m\u001b[0m\u001b[1;33m\u001b[0m\u001b[0m\n\u001b[0;32m     26\u001b[0m \u001b[1;33m\u001b[0m\u001b[0m\n\u001b[1;32m---> 27\u001b[1;33m \u001b[0mresult4\u001b[0m \u001b[1;33m=\u001b[0m \u001b[0mexample_c\u001b[0m \u001b[1;33m+\u001b[0m \u001b[0mexample_d\u001b[0m\u001b[1;33m\u001b[0m\u001b[1;33m\u001b[0m\u001b[0m\n\u001b[0m\u001b[0;32m     28\u001b[0m \u001b[0mprint\u001b[0m\u001b[1;33m(\u001b[0m\u001b[0mresult4\u001b[0m\u001b[1;33m)\u001b[0m\u001b[1;33m\u001b[0m\u001b[1;33m\u001b[0m\u001b[0m\n\u001b[0;32m     29\u001b[0m \u001b[1;33m\u001b[0m\u001b[0m\n",
      "\u001b[1;31mValueError\u001b[0m: operands could not be broadcast together with shapes (2,3) (4,5) "
     ]
    }
   ],
   "source": [
    "example_a = np.ones((2,3))\n",
    "example_b = np.random.random((3))\n",
    "\n",
    "print(f\"example_a shape: {example_a.shape}\")\n",
    "print(f\"example_b shape: {example_b.shape}\")\n",
    "\n",
    "print(example_a)\n",
    "print(example_b)\n",
    "\n",
    "result1 = example_a + example_b\n",
    "result2 = example_a - example_b\n",
    "result3 = example_a * example_b\n",
    "\n",
    "print(result1)\n",
    "print(result2)\n",
    "print(result3)\n",
    "\n",
    "example_c = np.ones((2,3))\n",
    "example_d = np.random.random((4,5))\n",
    "\n",
    "print(f\"example_c shape: {example_c.shape}\")\n",
    "print(f\"example_d shape: {example_d.shape}\")\n",
    "\n",
    "print(example_c)\n",
    "print(example_d)\n",
    "\n",
    "result4 = example_c + example_d\n",
    "print(result4)\n",
    "\n"
   ]
  },
  {
   "cell_type": "markdown",
   "metadata": {},
   "source": [
    "## Task 6a: Math/Stats Aggregate Functions\n",
    "\n",
    "In the practice notebook, perform the following.\n",
    "\n",
    "+ Create three to five arrays\n",
    "+ Experiment with each of the aggregation functions: `sum`, `minimum`, `maximum`, `cumsum`, `mean`, `np.corrcoef`, `np.std`, `np.var`. \n",
    "+ For each function call, add a comment line above it that describes what it does.  \n",
    "```\n"
   ]
  },
  {
   "cell_type": "code",
   "execution_count": 23,
   "metadata": {},
   "outputs": [
    {
     "data": {
      "text/plain": [
       "1.25"
      ]
     },
     "execution_count": 23,
     "metadata": {},
     "output_type": "execute_result"
    }
   ],
   "source": [
    "array1 = [1,2,3,4]\n",
    "array2 = [4,5,6,7]\n",
    "array3 = [4,3,2,1]\n",
    "\n",
    "#Sums the elements of the provided array\n",
    "np.sum(array1)\n",
    "#Takes two or more arrays and returns an array of the smallest element in each place\n",
    "np.minimum(array3, array1)\n",
    "#Takes two or more arrays and returns an array of the largest element in each place\n",
    "np.maximum(array3, array1)\n",
    "#Takes the total sum of the array and returns a data type\n",
    "np.cumsum(array1)\n",
    "#Takes the mean of the array\n",
    "np.mean(array2)\n",
    "#Takes arrays and returns correlation coefficient\n",
    "np.corrcoef(array1, array3)\n",
    "#Takes the standard deviation of the array\n",
    "np.std(array1)\n",
    "#Takes the variance of the array\n",
    "np.var(array2)"
   ]
  },
  {
   "cell_type": "markdown",
   "metadata": {},
   "source": [
    "## Task 6b: Logical Aggregate Functions\n",
    "\n",
    "In the practice notebook, perform the following.\n",
    "\n",
    "+ Create two arrays containing boolean values.\n",
    "+ Experiment with each of the aggregation functions: `logical_and`, `logical_or`, `logical_not`. \n",
    "+ For each function call, add a comment line above it that describes what it does.  \n",
    "```"
   ]
  },
  {
   "cell_type": "code",
   "execution_count": 27,
   "metadata": {},
   "outputs": [
    {
     "data": {
      "text/plain": [
       "array([False,  True, False,  True])"
      ]
     },
     "execution_count": 27,
     "metadata": {},
     "output_type": "execute_result"
    }
   ],
   "source": [
    "a = [True, False, True, False]\n",
    "b = [False, False, True, True]\n",
    "\n",
    "#Takes both arrays and peforms an And logic test with them\n",
    "np.logical_and(a,b)\n",
    "#Takes both arrays and performs an Or logic test with them\n",
    "np.logical_or(a,b)\n",
    "#Takes an array and returns the opposite of the Boolean values in the array\n",
    "np.logical_not(a)"
   ]
  }
 ],
 "metadata": {
  "kernelspec": {
   "display_name": "Python 3",
   "language": "python",
   "name": "python3"
  },
  "language_info": {
   "codemirror_mode": {
    "name": "ipython",
    "version": 3
   },
   "file_extension": ".py",
   "mimetype": "text/x-python",
   "name": "python",
   "nbconvert_exporter": "python",
   "pygments_lexer": "ipython3",
   "version": "3.7.4"
  }
 },
 "nbformat": 4,
 "nbformat_minor": 4
}
