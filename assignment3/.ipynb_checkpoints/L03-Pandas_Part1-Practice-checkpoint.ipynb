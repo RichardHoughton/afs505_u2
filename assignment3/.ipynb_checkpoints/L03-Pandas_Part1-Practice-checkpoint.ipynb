{
 "cells": [
  {
   "cell_type": "markdown",
   "metadata": {},
   "source": [
    "# Lesson 3 Practice: Pandas Part 1\n",
    "\n",
    "Use this notebook to follow along with the lesson in the corresponding lesson notebook: [L03-Pandas_Part1-Lesson.ipynb](./L03-Pandas_Part1-Lesson.ipynb).  "
   ]
  },
  {
   "cell_type": "markdown",
   "metadata": {},
   "source": [
    "## Instructions\n",
    "Follow along with the teaching material in the lesson. Throughout the tutorial sections labeled as \"Tasks\" are interspersed and indicated with the icon: ![Task](http://icons.iconarchive.com/icons/sbstnblnd/plateau/16/Apps-gnome-info-icon.png). You should follow the instructions provided in these sections by performing them in the practice notebook.  When the tutorial is completed you can turn in the final practice notebook. For each task, use the cell below it to write and test your code.  You may add additional cells for any task as needed or desired.  "
   ]
  },
  {
   "cell_type": "markdown",
   "metadata": {},
   "source": [
    "## Task 1a: Setup\n",
    "\n",
    "+ `numpy` as `np`\n",
    "+ `pandas` as `pd`\n"
   ]
  },
  {
   "cell_type": "code",
   "execution_count": 1,
   "metadata": {},
   "outputs": [],
   "source": [
    "import numpy as np\n",
    "import pandas as pd"
   ]
  },
  {
   "cell_type": "markdown",
   "metadata": {},
   "source": [
    "## Task 2a Create a `pd.Series` object\n",
    "\n",
    "+ Create a series of your own design."
   ]
  },
  {
   "cell_type": "code",
   "execution_count": 2,
   "metadata": {},
   "outputs": [
    {
     "data": {
      "text/plain": [
       "0    1\n",
       "1    2\n",
       "2    3\n",
       "3    4\n",
       "dtype: int64"
      ]
     },
     "execution_count": 2,
     "metadata": {},
     "output_type": "execute_result"
    }
   ],
   "source": [
    "my_series = pd.Series([1, 2, 3, 4])\n",
    "my_series"
   ]
  },
  {
   "cell_type": "markdown",
   "metadata": {},
   "source": [
    "## Task 2b: Creating a DataFrame\n",
    "\n",
    "+ Create a pd.DataFrame object from a Python dictionary. Design the data as you like."
   ]
  },
  {
   "cell_type": "code",
   "execution_count": 3,
   "metadata": {},
   "outputs": [
    {
     "data": {
      "text/html": [
       "<div>\n",
       "<style scoped>\n",
       "    .dataframe tbody tr th:only-of-type {\n",
       "        vertical-align: middle;\n",
       "    }\n",
       "\n",
       "    .dataframe tbody tr th {\n",
       "        vertical-align: top;\n",
       "    }\n",
       "\n",
       "    .dataframe thead th {\n",
       "        text-align: right;\n",
       "    }\n",
       "</style>\n",
       "<table border=\"1\" class=\"dataframe\">\n",
       "  <thead>\n",
       "    <tr style=\"text-align: right;\">\n",
       "      <th></th>\n",
       "      <th>alpha</th>\n",
       "      <th>beta</th>\n",
       "    </tr>\n",
       "  </thead>\n",
       "  <tbody>\n",
       "    <tr>\n",
       "      <td>0</td>\n",
       "      <td>4</td>\n",
       "      <td>6</td>\n",
       "    </tr>\n",
       "    <tr>\n",
       "      <td>1</td>\n",
       "      <td>5</td>\n",
       "      <td>15</td>\n",
       "    </tr>\n",
       "    <tr>\n",
       "      <td>2</td>\n",
       "      <td>6</td>\n",
       "      <td>36</td>\n",
       "    </tr>\n",
       "    <tr>\n",
       "      <td>3</td>\n",
       "      <td>7</td>\n",
       "      <td>7</td>\n",
       "    </tr>\n",
       "  </tbody>\n",
       "</table>\n",
       "</div>"
      ],
      "text/plain": [
       "   alpha  beta\n",
       "0      4     6\n",
       "1      5    15\n",
       "2      6    36\n",
       "3      7     7"
      ]
     },
     "execution_count": 3,
     "metadata": {},
     "output_type": "execute_result"
    }
   ],
   "source": [
    "example = pd.DataFrame(\n",
    "        {'alpha': [4, 5, 6, 7],\n",
    "         'beta': [6, 15, 36, 7]})\n",
    "example"
   ]
  },
  {
   "cell_type": "markdown",
   "metadata": {},
   "source": [
    "## Task 2c: Create DataFrame with labels\n",
    "\n",
    "+ Create a 10x5 dataframe of random numeric integers that follow a [Guassian (normal) Distribution](https://docs.scipy.org/doc/numpy-1.15.0/reference/generated/numpy.random.normal.html). \n",
    "  + Center the distrubtion at 0.85.\n",
    "  + We will use these values as assumed grades for a class of students\n",
    "+ Adjust the row indexes to be the names of hypothetical students.\n",
    "+ Adjust the columsn to be the names of hypothetical projects, homework, exam names, etc."
   ]
  },
  {
   "cell_type": "code",
   "execution_count": 3,
   "metadata": {},
   "outputs": [
    {
     "data": {
      "text/html": [
       "<div>\n",
       "<style scoped>\n",
       "    .dataframe tbody tr th:only-of-type {\n",
       "        vertical-align: middle;\n",
       "    }\n",
       "\n",
       "    .dataframe tbody tr th {\n",
       "        vertical-align: top;\n",
       "    }\n",
       "\n",
       "    .dataframe thead th {\n",
       "        text-align: right;\n",
       "    }\n",
       "</style>\n",
       "<table border=\"1\" class=\"dataframe\">\n",
       "  <thead>\n",
       "    <tr style=\"text-align: right;\">\n",
       "      <th></th>\n",
       "      <th>HW1</th>\n",
       "      <th>Exam 1</th>\n",
       "      <th>Exam 2</th>\n",
       "      <th>Project 1</th>\n",
       "      <th>Final Exam</th>\n",
       "    </tr>\n",
       "  </thead>\n",
       "  <tbody>\n",
       "    <tr>\n",
       "      <td>Barry</td>\n",
       "      <td>1.246388</td>\n",
       "      <td>0.724220</td>\n",
       "      <td>0.639676</td>\n",
       "      <td>1.647424</td>\n",
       "      <td>2.404831</td>\n",
       "    </tr>\n",
       "    <tr>\n",
       "      <td>Bill</td>\n",
       "      <td>-0.743386</td>\n",
       "      <td>0.026724</td>\n",
       "      <td>2.130651</td>\n",
       "      <td>0.322672</td>\n",
       "      <td>0.089560</td>\n",
       "    </tr>\n",
       "    <tr>\n",
       "      <td>Charles</td>\n",
       "      <td>0.749056</td>\n",
       "      <td>0.222648</td>\n",
       "      <td>0.472880</td>\n",
       "      <td>0.311421</td>\n",
       "      <td>0.541290</td>\n",
       "    </tr>\n",
       "    <tr>\n",
       "      <td>Mark</td>\n",
       "      <td>1.929828</td>\n",
       "      <td>1.025380</td>\n",
       "      <td>0.656275</td>\n",
       "      <td>-0.207881</td>\n",
       "      <td>0.994402</td>\n",
       "    </tr>\n",
       "    <tr>\n",
       "      <td>Lisa</td>\n",
       "      <td>-0.403374</td>\n",
       "      <td>1.822737</td>\n",
       "      <td>0.969144</td>\n",
       "      <td>-1.042198</td>\n",
       "      <td>0.168723</td>\n",
       "    </tr>\n",
       "    <tr>\n",
       "      <td>Harold</td>\n",
       "      <td>1.620816</td>\n",
       "      <td>1.395441</td>\n",
       "      <td>1.204539</td>\n",
       "      <td>1.695677</td>\n",
       "      <td>-0.047227</td>\n",
       "    </tr>\n",
       "    <tr>\n",
       "      <td>Stella</td>\n",
       "      <td>1.518745</td>\n",
       "      <td>-1.200160</td>\n",
       "      <td>2.292750</td>\n",
       "      <td>0.666303</td>\n",
       "      <td>0.272705</td>\n",
       "    </tr>\n",
       "    <tr>\n",
       "      <td>Chuck</td>\n",
       "      <td>0.676389</td>\n",
       "      <td>-1.826590</td>\n",
       "      <td>1.597633</td>\n",
       "      <td>0.871541</td>\n",
       "      <td>-0.902427</td>\n",
       "    </tr>\n",
       "    <tr>\n",
       "      <td>Kim</td>\n",
       "      <td>-0.057821</td>\n",
       "      <td>2.423595</td>\n",
       "      <td>0.373841</td>\n",
       "      <td>2.559532</td>\n",
       "      <td>-1.423012</td>\n",
       "    </tr>\n",
       "    <tr>\n",
       "      <td>Orran</td>\n",
       "      <td>1.683316</td>\n",
       "      <td>0.172807</td>\n",
       "      <td>0.574189</td>\n",
       "      <td>2.849388</td>\n",
       "      <td>1.985248</td>\n",
       "    </tr>\n",
       "  </tbody>\n",
       "</table>\n",
       "</div>"
      ],
      "text/plain": [
       "              HW1    Exam 1    Exam 2  Project 1  Final Exam\n",
       "Barry    1.246388  0.724220  0.639676   1.647424    2.404831\n",
       "Bill    -0.743386  0.026724  2.130651   0.322672    0.089560\n",
       "Charles  0.749056  0.222648  0.472880   0.311421    0.541290\n",
       "Mark     1.929828  1.025380  0.656275  -0.207881    0.994402\n",
       "Lisa    -0.403374  1.822737  0.969144  -1.042198    0.168723\n",
       "Harold   1.620816  1.395441  1.204539   1.695677   -0.047227\n",
       "Stella   1.518745 -1.200160  2.292750   0.666303    0.272705\n",
       "Chuck    0.676389 -1.826590  1.597633   0.871541   -0.902427\n",
       "Kim     -0.057821  2.423595  0.373841   2.559532   -1.423012\n",
       "Orran    1.683316  0.172807  0.574189   2.849388    1.985248"
      ]
     },
     "execution_count": 3,
     "metadata": {},
     "output_type": "execute_result"
    }
   ],
   "source": [
    "student_names = ['Barry', 'Bill', 'Charles', 'Mark', 'Lisa', 'Harold', 'Stella', 'Chuck', 'Kim', 'Orran' ]\n",
    "\n",
    "df2 = pd.DataFrame(np.random.normal(0.85, 1, (10,5)), index = student_names, columns = ('HW1', 'Exam 1', 'Exam 2', 'Project 1', 'Final Exam')) \n",
    "df2"
   ]
  },
  {
   "cell_type": "markdown",
   "metadata": {},
   "source": [
    "## Task 3a: Import the iris.csv file\n",
    "\n",
    "+ Import the iris dataset.\n",
    "+ Take a look at the `pd.read_csv` online documentation. Write example code in a Markup cell for how you would import this file if it were tab-delimited."
   ]
  },
  {
   "cell_type": "code",
   "execution_count": 2,
   "metadata": {},
   "outputs": [],
   "source": [
    "irisdf = pd.read_csv(\"data/iris.csv\")"
   ]
  },
  {
   "cell_type": "markdown",
   "metadata": {},
   "source": [
    "pd.read_csv(\"iris.csv\", sep = ' '"
   ]
  },
  {
   "cell_type": "markdown",
   "metadata": {},
   "source": [
    "## Task 4a: Explore Data\n",
    "\n",
    " + Use `head`, `tail` and `sample` with the iris dataset.\n",
    " + Do the same with the dataset you created in task 2c."
   ]
  },
  {
   "cell_type": "code",
   "execution_count": 17,
   "metadata": {},
   "outputs": [
    {
     "data": {
      "text/html": [
       "<div>\n",
       "<style scoped>\n",
       "    .dataframe tbody tr th:only-of-type {\n",
       "        vertical-align: middle;\n",
       "    }\n",
       "\n",
       "    .dataframe tbody tr th {\n",
       "        vertical-align: top;\n",
       "    }\n",
       "\n",
       "    .dataframe thead th {\n",
       "        text-align: right;\n",
       "    }\n",
       "</style>\n",
       "<table border=\"1\" class=\"dataframe\">\n",
       "  <thead>\n",
       "    <tr style=\"text-align: right;\">\n",
       "      <th></th>\n",
       "      <th>HW1</th>\n",
       "      <th>Exam 1</th>\n",
       "      <th>Exam 2</th>\n",
       "      <th>Project 1</th>\n",
       "      <th>Final Exam</th>\n",
       "    </tr>\n",
       "  </thead>\n",
       "  <tbody>\n",
       "    <tr>\n",
       "      <td>Orran</td>\n",
       "      <td>1.683316</td>\n",
       "      <td>0.172807</td>\n",
       "      <td>0.574189</td>\n",
       "      <td>2.849388</td>\n",
       "      <td>1.985248</td>\n",
       "    </tr>\n",
       "    <tr>\n",
       "      <td>Mark</td>\n",
       "      <td>1.929828</td>\n",
       "      <td>1.025380</td>\n",
       "      <td>0.656275</td>\n",
       "      <td>-0.207881</td>\n",
       "      <td>0.994402</td>\n",
       "    </tr>\n",
       "    <tr>\n",
       "      <td>Charles</td>\n",
       "      <td>0.749056</td>\n",
       "      <td>0.222648</td>\n",
       "      <td>0.472880</td>\n",
       "      <td>0.311421</td>\n",
       "      <td>0.541290</td>\n",
       "    </tr>\n",
       "  </tbody>\n",
       "</table>\n",
       "</div>"
      ],
      "text/plain": [
       "              HW1    Exam 1    Exam 2  Project 1  Final Exam\n",
       "Orran    1.683316  0.172807  0.574189   2.849388    1.985248\n",
       "Mark     1.929828  1.025380  0.656275  -0.207881    0.994402\n",
       "Charles  0.749056  0.222648  0.472880   0.311421    0.541290"
      ]
     },
     "execution_count": 17,
     "metadata": {},
     "output_type": "execute_result"
    }
   ],
   "source": [
    "irisdf.head(7)\n",
    "irisdf.tail(7)\n",
    "irisdf.sample(7)\n",
    "df2.head(3)\n",
    "df2.tail(3)\n",
    "df2.sample(3)"
   ]
  },
  {
   "cell_type": "markdown",
   "metadata": {},
   "source": [
    "## Task 5a: Viewing columns and rows\n",
    "\n",
    "+ Display the columns and indexes of the iris dataset.\n",
    "+ Do the same with the dataset you created in Task 2c."
   ]
  },
  {
   "cell_type": "code",
   "execution_count": 22,
   "metadata": {},
   "outputs": [
    {
     "data": {
      "text/plain": [
       "Index(['Barry', 'Bill', 'Charles', 'Mark', 'Lisa', 'Harold', 'Stella', 'Chuck',\n",
       "       'Kim', 'Orran'],\n",
       "      dtype='object')"
      ]
     },
     "execution_count": 22,
     "metadata": {},
     "output_type": "execute_result"
    }
   ],
   "source": [
    "irisdf.columns\n",
    "irisdf.index\n",
    "df2.columns\n",
    "df2.index"
   ]
  },
  {
   "cell_type": "markdown",
   "metadata": {},
   "source": [
    "## Task 5b: Get Values\n",
    "\n",
    "+ Check the version of `pandas` you have \n",
    "+ Use the appropriate method to convert the iris data to a dictionary.\n",
    "+ Do the same with the dataset you created in Task 2c.\n"
   ]
  },
  {
   "cell_type": "code",
   "execution_count": 28,
   "metadata": {},
   "outputs": [
    {
     "data": {
      "text/plain": [
       "{'HW1': {'Barry': 1.246387679314844,\n",
       "  'Bill': -0.7433856153145392,\n",
       "  'Charles': 0.7490556153419756,\n",
       "  'Mark': 1.9298278728525085,\n",
       "  'Lisa': -0.4033736703326204,\n",
       "  'Harold': 1.6208161130472734,\n",
       "  'Stella': 1.5187452094616918,\n",
       "  'Chuck': 0.6763886152222107,\n",
       "  'Kim': -0.057821194889145944,\n",
       "  'Orran': 1.6833155580439785},\n",
       " 'Exam 1': {'Barry': 0.7242201826725705,\n",
       "  'Bill': 0.026723969536797898,\n",
       "  'Charles': 0.22264799688150416,\n",
       "  'Mark': 1.0253803494300602,\n",
       "  'Lisa': 1.8227371637610972,\n",
       "  'Harold': 1.3954410027823325,\n",
       "  'Stella': -1.2001595236452447,\n",
       "  'Chuck': -1.8265900911422537,\n",
       "  'Kim': 2.4235951176801116,\n",
       "  'Orran': 0.17280665081385393},\n",
       " 'Exam 2': {'Barry': 0.6396756937258508,\n",
       "  'Bill': 2.130651475477592,\n",
       "  'Charles': 0.47288016313528447,\n",
       "  'Mark': 0.6562749819552574,\n",
       "  'Lisa': 0.9691439565357128,\n",
       "  'Harold': 1.2045391971309163,\n",
       "  'Stella': 2.2927498758281293,\n",
       "  'Chuck': 1.597632575532295,\n",
       "  'Kim': 0.3738414923000041,\n",
       "  'Orran': 0.5741891397836755},\n",
       " 'Project 1': {'Barry': 1.6474238786375746,\n",
       "  'Bill': 0.32267247810046695,\n",
       "  'Charles': 0.31142079239566134,\n",
       "  'Mark': -0.20788109101785712,\n",
       "  'Lisa': -1.0421980128909234,\n",
       "  'Harold': 1.695677107505111,\n",
       "  'Stella': 0.6663033855315239,\n",
       "  'Chuck': 0.8715413113780723,\n",
       "  'Kim': 2.5595319280394637,\n",
       "  'Orran': 2.8493877746287537},\n",
       " 'Final Exam': {'Barry': 2.4048311473128843,\n",
       "  'Bill': 0.08956006449452558,\n",
       "  'Charles': 0.5412896807182466,\n",
       "  'Mark': 0.9944018563106702,\n",
       "  'Lisa': 0.16872347021085388,\n",
       "  'Harold': -0.04722721036935951,\n",
       "  'Stella': 0.27270520405180443,\n",
       "  'Chuck': -0.9024272393869516,\n",
       "  'Kim': -1.4230121801454287,\n",
       "  'Orran': 1.9852481826256754}}"
      ]
     },
     "execution_count": 28,
     "metadata": {},
     "output_type": "execute_result"
    }
   ],
   "source": [
    "pd.__version__\n",
    "newiris = irisdf.to_dict()\n",
    "newiris\n",
    "newdf2 = df2.to_dict()\n",
    "newdf2"
   ]
  },
  {
   "cell_type": "markdown",
   "metadata": {},
   "source": [
    "## Task 5c: Using `loc`\n",
    "\n",
    "+ Use any iris dataframe to:\n",
    "  + Select a row slice with `loc`.\n",
    "  + Select a row and column slice with `loc`.\n",
    "  + Take a look at the [Pandas documentation for the `at` selector](https://pandas.pydata.org/pandas-docs/stable/reference/api/pandas.DataFrame.at.html). Use what you learn there to select a single item with Pandas `at` accessor."
   ]
  },
  {
   "cell_type": "code",
   "execution_count": 12,
   "metadata": {},
   "outputs": [
    {
     "data": {
      "text/plain": [
       "1.5"
      ]
     },
     "execution_count": 12,
     "metadata": {},
     "output_type": "execute_result"
    }
   ],
   "source": [
    "irisdf.loc[4:7]\n",
    "irisdf.loc[4:7, ['sepal_width', 'petal_length']]\n",
    "irisdf.at[7, 'petal_length']"
   ]
  },
  {
   "cell_type": "markdown",
   "metadata": {},
   "source": [
    "## Task 5d: Using `iloc`\n",
    "\n",
    "+ Use any iris dataframe to:    \n",
    "    + Select a row slice with `iloc`.\n",
    "    + Select a row and column slice with `iloc`.\n",
    "    + Take a look at the [Pandas documentation for the `iat` selector](https://pandas.pydata.org/pandas-docs/stable/reference/api/pandas.DataFrame.iat.html). Use what you learn there to select a single item with Pandas `iat` accessor.\n",
    "\n"
   ]
  },
  {
   "cell_type": "code",
   "execution_count": 18,
   "metadata": {},
   "outputs": [
    {
     "data": {
      "text/plain": [
       "0.2"
      ]
     },
     "execution_count": 18,
     "metadata": {},
     "output_type": "execute_result"
    }
   ],
   "source": [
    "irisdf.iloc[7:9]\n",
    "irisdf.iloc[4:6, :-2]\n",
    "irisdf.iat[7,3]"
   ]
  },
  {
   "cell_type": "markdown",
   "metadata": {},
   "source": [
    "## Task 5e: Boolean Indexing\n",
    "\n",
    "+ Create subsets of the iris dataset using boolean indexes that:\n",
    "    + Use one boolean operator.\n",
    "    + Use two boolean operators.\n",
    "\n"
   ]
  },
  {
   "cell_type": "code",
   "execution_count": 43,
   "metadata": {},
   "outputs": [
    {
     "data": {
      "text/plain": [
       "0      False\n",
       "1      False\n",
       "2      False\n",
       "3      False\n",
       "4      False\n",
       "       ...  \n",
       "145     True\n",
       "146     True\n",
       "147     True\n",
       "148     True\n",
       "149    False\n",
       "Name: sepal_length, Length: 150, dtype: bool"
      ]
     },
     "execution_count": 43,
     "metadata": {},
     "output_type": "execute_result"
    }
   ],
   "source": [
    "condition1 = irisdf['petal_width'] > 1\n",
    "condition1 \n",
    "condition2 = irisdf['sepal_length'] > 6\n",
    "condition2"
   ]
  },
  {
   "cell_type": "code",
   "execution_count": 47,
   "metadata": {},
   "outputs": [
    {
     "ename": "TypeError",
     "evalue": "list indices must be integers or slices, not Series",
     "output_type": "error",
     "traceback": [
      "\u001b[1;31m---------------------------------------------------------------------------\u001b[0m",
      "\u001b[1;31mTypeError\u001b[0m                                 Traceback (most recent call last)",
      "\u001b[1;32m<ipython-input-47-a1ac89d358b6>\u001b[0m in \u001b[0;36m<module>\u001b[1;34m\u001b[0m\n\u001b[1;32m----> 1\u001b[1;33m \u001b[0mirisdf\u001b[0m\u001b[1;33m[\u001b[0m\u001b[1;33m[\u001b[0m\u001b[0mcondition1\u001b[0m\u001b[1;33m]\u001b[0m\u001b[1;33m[\u001b[0m\u001b[0mcondition2\u001b[0m\u001b[1;33m]\u001b[0m\u001b[1;33m]\u001b[0m\u001b[1;33m.\u001b[0m\u001b[0mhead\u001b[0m\u001b[1;33m(\u001b[0m\u001b[1;33m)\u001b[0m\u001b[1;33m\u001b[0m\u001b[1;33m\u001b[0m\u001b[0m\n\u001b[0m",
      "\u001b[1;31mTypeError\u001b[0m: list indices must be integers or slices, not Series"
     ]
    }
   ],
   "source": [
    "irisdf[[condition1][condition2]].head()\n"
   ]
  },
  {
   "cell_type": "code",
   "execution_count": null,
   "metadata": {},
   "outputs": [],
   "source": []
  }
 ],
 "metadata": {
  "kernelspec": {
   "display_name": "Python 3",
   "language": "python",
   "name": "python3"
  },
  "language_info": {
   "codemirror_mode": {
    "name": "ipython",
    "version": 3
   },
   "file_extension": ".py",
   "mimetype": "text/x-python",
   "name": "python",
   "nbconvert_exporter": "python",
   "pygments_lexer": "ipython3",
   "version": "3.7.4"
  }
 },
 "nbformat": 4,
 "nbformat_minor": 4
}
